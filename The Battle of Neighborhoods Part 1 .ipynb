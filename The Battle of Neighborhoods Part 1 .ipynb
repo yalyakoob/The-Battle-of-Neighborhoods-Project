{
    "cells": [
        {
            "cell_type": "markdown",
            "metadata": {},
            "source": "# A description of the problem and a discussion of the background:"
        },
        {
            "cell_type": "markdown",
            "metadata": {},
            "source": "### My client is a world renowned pizza connoisseur that reviews pizza places around the world. His next destination is the the US and he has never been there before. He wants to be in a city where there is a high density of pizza places so that he can find out the best pizza that city can offer. \n\n### In order to solve this problem, I will have to perform an analysis of the pizza store locations in major US cities and find out which city would be the most ideal for my client to perform his review of the best pizza place in that particular city."
        },
        {
            "cell_type": "markdown",
            "metadata": {},
            "source": ""
        },
        {
            "cell_type": "markdown",
            "metadata": {},
            "source": "# A description of the data and how it will be used to solve the problem. "
        },
        {
            "cell_type": "markdown",
            "metadata": {},
            "source": "### In order to address the aforementioned problem, I will use the FourSquare API for data collection of the locations of pizza stores in five US major cities which are :\n### 1)New York,NY, 2)San Francisco, CA, 3)Jersey City, NJ, 4)Boston, MA and 5)Chicago,IL. \n### These cities are some of the most populated cities in the US. Thus, they have a high potential of having a large density of pizza places so that my client can perform his review adequately."
        },
        {
            "cell_type": "code",
            "execution_count": null,
            "metadata": {},
            "outputs": [],
            "source": ""
        }
    ],
    "metadata": {
        "kernelspec": {
            "display_name": "Python 3.6",
            "language": "python",
            "name": "python3"
        },
        "language_info": {
            "codemirror_mode": {
                "name": "ipython",
                "version": 3
            },
            "file_extension": ".py",
            "mimetype": "text/x-python",
            "name": "python",
            "nbconvert_exporter": "python",
            "pygments_lexer": "ipython3",
            "version": "3.6.9"
        }
    },
    "nbformat": 4,
    "nbformat_minor": 1
}